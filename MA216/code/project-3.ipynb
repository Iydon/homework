{
 "cells": [
  {
   "cell_type": "code",
   "execution_count": 1,
   "metadata": {},
   "outputs": [],
   "source": [
    "from sympy import symbols\n",
    "from sympy import integrate, diff, log, sqrt, exp\n",
    "from sympy import oo, pi as π"
   ]
  },
  {
   "cell_type": "code",
   "execution_count": 2,
   "metadata": {},
   "outputs": [],
   "source": [
    "class Simplify:\n",
    "    _SIMPLIFY = 'simplify'\n",
    "\n",
    "    def __init__(self, lazy=False):\n",
    "        self._lazy = lazy\n",
    "\n",
    "    def __ror__(self, value):\n",
    "        if self._lazy:\n",
    "            return value\n",
    "        _simplify = getattr(value, self._SIMPLIFY, None)\n",
    "        if _simplify is not None:\n",
    "            try:\n",
    "                return _simplify()\n",
    "            finally:\n",
    "                print('Formula simplified.')\n",
    "\n",
    "    def __call__(self, value):\n",
    "        return self.__ror__(value)\n",
    "\n",
    "simplify = Simplify(lazy=False)"
   ]
  },
  {
   "cell_type": "code",
   "execution_count": 3,
   "metadata": {},
   "outputs": [],
   "source": [
    "S, E, r, σ, T, t = symbols('S, E, r, σ, T, t')\n",
    "_ = symbols('_')\n",
    "\n",
    "d1 = (log(S/E) + r*(T-t) + σ**2*(T-t)/2) / (σ*sqrt(T-t))\n",
    "d2 = d1 - σ*sqrt(T-t)\n",
    "\n",
    "N:_ = integrate(exp(-_**2/2)/(sqrt(2*π)), (_, -oo, _))\n",
    "dN:_ = diff(N, _)"
   ]
  },
  {
   "cell_type": "code",
   "execution_count": 4,
   "metadata": {},
   "outputs": [
    {
     "name": "stdout",
     "output_type": "stream",
     "text": [
      "Formula simplified.\n"
     ]
    }
   ],
   "source": [
    "C = S*N.subs(_, d1) - E*exp(-r*(T-t)*N.subs(_, d2)) | simplify\n",
    "Δ = diff(C, S)\n",
    "ν = diff(C, σ)\n",
    "θ = diff(C, t)\n",
    "γ = diff(C, S, 2)"
   ]
  },
  {
   "cell_type": "code",
   "execution_count": 5,
   "metadata": {},
   "outputs": [
    {
     "name": "stdout",
     "output_type": "stream",
     "text": [
      "Formula simplified.\n"
     ]
    },
    {
     "data": {
      "text/latex": [
       "$\\displaystyle \\frac{\\sqrt{2} E r \\sqrt{T - t} e^{- \\frac{r \\left(T - t\\right) \\left(\\operatorname{erf}{\\left(\\frac{\\sqrt{2} \\left(2 r \\left(T - t\\right) - σ^{2} \\left(T - t\\right) + 2 \\log{\\left(\\frac{S}{E} \\right)}\\right)}{4 σ \\sqrt{T - t}} \\right)} + 1\\right)}{2}} e^{- \\frac{\\left(2 r \\left(T - t\\right) - σ^{2} \\left(T - t\\right) + 2 \\log{\\left(\\frac{S}{E} \\right)}\\right)^{2}}{8 σ^{2} \\left(T - t\\right)}}}{2 \\sqrt{\\pi} S σ} + \\frac{\\operatorname{erf}{\\left(\\frac{\\sqrt{2} \\left(2 r \\left(T - t\\right) + σ^{2} \\left(T - t\\right) + 2 \\log{\\left(\\frac{S}{E} \\right)}\\right)}{4 σ \\sqrt{T - t}} \\right)}}{2} + \\frac{1}{2} + \\frac{\\sqrt{2} e^{- \\frac{\\left(2 r \\left(T - t\\right) + σ^{2} \\left(T - t\\right) + 2 \\log{\\left(\\frac{S}{E} \\right)}\\right)^{2}}{8 σ^{2} \\left(T - t\\right)}}}{2 \\sqrt{\\pi} σ \\sqrt{T - t}}$"
      ],
      "text/plain": [
       "sqrt(2)*E*r*sqrt(T - t)*exp(-r*(T - t)*(erf(sqrt(2)*(2*r*(T - t) - σ**2*(T - t) + 2*log(S/E))/(4*σ*sqrt(T - t))) + 1)/2)*exp(-(2*r*(T - t) - σ**2*(T - t) + 2*log(S/E))**2/(8*σ**2*(T - t)))/(2*sqrt(pi)*S*σ) + erf(sqrt(2)*(2*r*(T - t) + σ**2*(T - t) + 2*log(S/E))/(4*σ*sqrt(T - t)))/2 + 1/2 + sqrt(2)*exp(-(2*r*(T - t) + σ**2*(T - t) + 2*log(S/E))**2/(8*σ**2*(T - t)))/(2*sqrt(pi)*σ*sqrt(T - t))"
      ]
     },
     "execution_count": 5,
     "metadata": {},
     "output_type": "execute_result"
    }
   ],
   "source": [
    "Δ | simplify"
   ]
  },
  {
   "cell_type": "code",
   "execution_count": 6,
   "metadata": {},
   "outputs": [
    {
     "name": "stdout",
     "output_type": "stream",
     "text": [
      "Formula simplified.\n"
     ]
    },
    {
     "data": {
      "text/latex": [
       "$\\displaystyle \\frac{\\sqrt{2} \\left(- E r \\left(T - t\\right) \\left(2 r \\left(T - t\\right) + σ^{2} \\left(- T + t\\right) + 2 σ^{2} \\left(T - t\\right) + 2 \\log{\\left(\\frac{S}{E} \\right)}\\right) e^{\\frac{\\left(2 r \\left(T - t\\right) + σ^{2} \\left(T - t\\right) + 2 \\log{\\left(\\frac{S}{E} \\right)}\\right)^{2}}{8 σ^{2} \\left(T - t\\right)}} + S \\left(- 2 r \\left(T - t\\right) + σ^{2} \\left(- T + t\\right) + 2 σ^{2} \\left(T - t\\right) - 2 \\log{\\left(\\frac{S}{E} \\right)}\\right) e^{\\frac{4 r σ^{2} \\left(T - t\\right)^{2} \\left(\\operatorname{erf}{\\left(\\frac{\\sqrt{2} \\left(2 r \\left(T - t\\right) - σ^{2} \\left(T - t\\right) + 2 \\log{\\left(\\frac{S}{E} \\right)}\\right)}{4 σ \\sqrt{T - t}} \\right)} + 1\\right) + \\left(2 r \\left(T - t\\right) - σ^{2} \\left(T - t\\right) + 2 \\log{\\left(\\frac{S}{E} \\right)}\\right)^{2}}{8 σ^{2} \\left(T - t\\right)}}\\right) e^{- \\frac{4 r σ^{2} \\left(T - t\\right)^{2} \\left(\\operatorname{erf}{\\left(\\frac{\\sqrt{2} \\left(2 r \\left(T - t\\right) - σ^{2} \\left(T - t\\right) + 2 \\log{\\left(\\frac{S}{E} \\right)}\\right)}{4 σ \\sqrt{T - t}} \\right)} + 1\\right) + \\left(2 r \\left(T - t\\right) - σ^{2} \\left(T - t\\right) + 2 \\log{\\left(\\frac{S}{E} \\right)}\\right)^{2} + \\left(2 r \\left(T - t\\right) + σ^{2} \\left(T - t\\right) + 2 \\log{\\left(\\frac{S}{E} \\right)}\\right)^{2}}{8 σ^{2} \\left(T - t\\right)}}}{4 \\sqrt{\\pi} σ^{2} \\sqrt{T - t}}$"
      ],
      "text/plain": [
       "sqrt(2)*(-E*r*(T - t)*(2*r*(T - t) + σ**2*(-T + t) + 2*σ**2*(T - t) + 2*log(S/E))*exp((2*r*(T - t) + σ**2*(T - t) + 2*log(S/E))**2/(8*σ**2*(T - t))) + S*(-2*r*(T - t) + σ**2*(-T + t) + 2*σ**2*(T - t) - 2*log(S/E))*exp((4*r*σ**2*(T - t)**2*(erf(sqrt(2)*(2*r*(T - t) - σ**2*(T - t) + 2*log(S/E))/(4*σ*sqrt(T - t))) + 1) + (2*r*(T - t) - σ**2*(T - t) + 2*log(S/E))**2)/(8*σ**2*(T - t))))*exp(-(4*r*σ**2*(T - t)**2*(erf(sqrt(2)*(2*r*(T - t) - σ**2*(T - t) + 2*log(S/E))/(4*σ*sqrt(T - t))) + 1) + (2*r*(T - t) - σ**2*(T - t) + 2*log(S/E))**2 + (2*r*(T - t) + σ**2*(T - t) + 2*log(S/E))**2)/(8*σ**2*(T - t)))/(4*sqrt(pi)*σ**2*sqrt(T - t))"
      ]
     },
     "execution_count": 6,
     "metadata": {},
     "output_type": "execute_result"
    }
   ],
   "source": [
    "ν | simplify"
   ]
  },
  {
   "cell_type": "code",
   "execution_count": 7,
   "metadata": {},
   "outputs": [
    {
     "name": "stdout",
     "output_type": "stream",
     "text": [
      "Formula simplified.\n"
     ]
    },
    {
     "data": {
      "text/latex": [
       "$\\displaystyle \\frac{\\left(E r \\left(T - t\\right)^{2} \\left(- 4 \\sqrt{\\pi} σ \\left(T - t\\right) \\left(\\operatorname{erf}{\\left(\\frac{\\sqrt{2} \\left(2 r \\left(T - t\\right) - σ^{2} \\left(T - t\\right) + 2 \\log{\\left(\\frac{S}{E} \\right)}\\right)}{4 σ \\sqrt{T - t}} \\right)} + 1\\right) e^{\\frac{\\left(2 r \\left(T - t\\right) - σ^{2} \\left(T - t\\right) + 2 \\log{\\left(\\frac{S}{E} \\right)}\\right)^{2}}{8 σ^{2} \\left(T - t\\right)}} + \\sqrt{2} \\sqrt{T - t} \\left(2 r \\left(T - t\\right) + σ^{2} \\left(- T + t\\right) - 2 \\left(T - t\\right) \\left(2 r - σ^{2}\\right) + 2 \\log{\\left(\\frac{S}{E} \\right)}\\right)\\right) e^{\\frac{\\left(2 r \\left(T - t\\right) + σ^{2} \\left(T - t\\right) + 2 \\log{\\left(\\frac{S}{E} \\right)}\\right)^{2}}{8 σ^{2} \\left(T - t\\right)}} - \\sqrt{2} S \\left(T - t\\right)^{\\frac{3}{2}} \\left(- 2 r \\left(T - t\\right) + σ^{2} \\left(- T + t\\right) + 2 \\left(T - t\\right) \\left(2 r + σ^{2}\\right) - 2 \\log{\\left(\\frac{S}{E} \\right)}\\right) e^{\\frac{4 r σ^{2} \\left(T - t\\right)^{2} \\left(\\operatorname{erf}{\\left(\\frac{\\sqrt{2} \\left(2 r \\left(T - t\\right) - σ^{2} \\left(T - t\\right) + 2 \\log{\\left(\\frac{S}{E} \\right)}\\right)}{4 σ \\sqrt{T - t}} \\right)} + 1\\right) + \\left(2 r \\left(T - t\\right) - σ^{2} \\left(T - t\\right) + 2 \\log{\\left(\\frac{S}{E} \\right)}\\right)^{2}}{8 σ^{2} \\left(T - t\\right)}}\\right) e^{- \\frac{4 r σ^{2} \\left(T - t\\right)^{2} \\left(\\operatorname{erf}{\\left(\\frac{\\sqrt{2} \\left(2 r \\left(T - t\\right) - σ^{2} \\left(T - t\\right) + 2 \\log{\\left(\\frac{S}{E} \\right)}\\right)}{4 σ \\sqrt{T - t}} \\right)} + 1\\right) + \\left(2 r \\left(T - t\\right) - σ^{2} \\left(T - t\\right) + 2 \\log{\\left(\\frac{S}{E} \\right)}\\right)^{2} + \\left(2 r \\left(T - t\\right) + σ^{2} \\left(T - t\\right) + 2 \\log{\\left(\\frac{S}{E} \\right)}\\right)^{2}}{8 σ^{2} \\left(T - t\\right)}}}{8 \\sqrt{\\pi} σ \\left(T - t\\right)^{3}}$"
      ],
      "text/plain": [
       "(E*r*(T - t)**2*(-4*sqrt(pi)*σ*(T - t)*(erf(sqrt(2)*(2*r*(T - t) - σ**2*(T - t) + 2*log(S/E))/(4*σ*sqrt(T - t))) + 1)*exp((2*r*(T - t) - σ**2*(T - t) + 2*log(S/E))**2/(8*σ**2*(T - t))) + sqrt(2)*sqrt(T - t)*(2*r*(T - t) + σ**2*(-T + t) - 2*(T - t)*(2*r - σ**2) + 2*log(S/E)))*exp((2*r*(T - t) + σ**2*(T - t) + 2*log(S/E))**2/(8*σ**2*(T - t))) - sqrt(2)*S*(T - t)**(3/2)*(-2*r*(T - t) + σ**2*(-T + t) + 2*(T - t)*(2*r + σ**2) - 2*log(S/E))*exp((4*r*σ**2*(T - t)**2*(erf(sqrt(2)*(2*r*(T - t) - σ**2*(T - t) + 2*log(S/E))/(4*σ*sqrt(T - t))) + 1) + (2*r*(T - t) - σ**2*(T - t) + 2*log(S/E))**2)/(8*σ**2*(T - t))))*exp(-(4*r*σ**2*(T - t)**2*(erf(sqrt(2)*(2*r*(T - t) - σ**2*(T - t) + 2*log(S/E))/(4*σ*sqrt(T - t))) + 1) + (2*r*(T - t) - σ**2*(T - t) + 2*log(S/E))**2 + (2*r*(T - t) + σ**2*(T - t) + 2*log(S/E))**2)/(8*σ**2*(T - t)))/(8*sqrt(pi)*σ*(T - t)**3)"
      ]
     },
     "execution_count": 7,
     "metadata": {},
     "output_type": "execute_result"
    }
   ],
   "source": [
    "θ | simplify"
   ]
  },
  {
   "cell_type": "code",
   "execution_count": 8,
   "metadata": {},
   "outputs": [
    {
     "name": "stdout",
     "output_type": "stream",
     "text": [
      "Formula simplified.\n"
     ]
    },
    {
     "data": {
      "text/latex": [
       "$\\displaystyle - \\frac{\\frac{2 E r^{2} \\left(T - t\\right) e^{- \\frac{r \\left(T - t\\right) \\left(\\operatorname{erf}{\\left(\\frac{\\sqrt{2} \\left(2 r \\left(T - t\\right) - σ^{2} \\left(T - t\\right) + 2 \\log{\\left(\\frac{S}{E} \\right)}\\right)}{4 σ \\sqrt{T - t}} \\right)} + 1\\right)}{2}} e^{- \\frac{\\left(2 r \\left(T - t\\right) - σ^{2} \\left(T - t\\right) + 2 \\log{\\left(\\frac{S}{E} \\right)}\\right)^{2}}{4 σ^{2} \\left(T - t\\right)}}}{\\pi S σ} + \\frac{2 \\sqrt{2} E r \\sqrt{T - t} e^{- \\frac{r \\left(T - t\\right) \\left(\\operatorname{erf}{\\left(\\frac{\\sqrt{2} \\left(2 r \\left(T - t\\right) - σ^{2} \\left(T - t\\right) + 2 \\log{\\left(\\frac{S}{E} \\right)}\\right)}{4 σ \\sqrt{T - t}} \\right)} + 1\\right)}{2}} e^{- \\frac{\\left(2 r \\left(T - t\\right) - σ^{2} \\left(T - t\\right) + 2 \\log{\\left(\\frac{S}{E} \\right)}\\right)^{2}}{8 σ^{2} \\left(T - t\\right)}}}{\\sqrt{\\pi} S} + \\frac{\\sqrt{2} E r \\left(2 r \\left(T - t\\right) - σ^{2} \\left(T - t\\right) + 2 \\log{\\left(\\frac{S}{E} \\right)}\\right) e^{- \\frac{r \\left(T - t\\right) \\left(\\operatorname{erf}{\\left(\\frac{\\sqrt{2} \\left(2 r \\left(T - t\\right) - σ^{2} \\left(T - t\\right) + 2 \\log{\\left(\\frac{S}{E} \\right)}\\right)}{4 σ \\sqrt{T - t}} \\right)} + 1\\right)}{2}} e^{- \\frac{\\left(2 r \\left(T - t\\right) - σ^{2} \\left(T - t\\right) + 2 \\log{\\left(\\frac{S}{E} \\right)}\\right)^{2}}{8 σ^{2} \\left(T - t\\right)}}}{\\sqrt{\\pi} S σ^{2} \\sqrt{T - t}} - \\frac{2 \\sqrt{2} e^{- \\frac{\\left(2 r \\left(T - t\\right) + σ^{2} \\left(T - t\\right) + 2 \\log{\\left(\\frac{S}{E} \\right)}\\right)^{2}}{8 σ^{2} \\left(T - t\\right)}}}{\\sqrt{\\pi} \\sqrt{T - t}} + \\frac{\\sqrt{2} \\left(2 r \\left(T - t\\right) + σ^{2} \\left(T - t\\right) + 2 \\log{\\left(\\frac{S}{E} \\right)}\\right) e^{- \\frac{\\left(2 r \\left(T - t\\right) + σ^{2} \\left(T - t\\right) + 2 \\log{\\left(\\frac{S}{E} \\right)}\\right)^{2}}{8 σ^{2} \\left(T - t\\right)}}}{\\sqrt{\\pi} σ^{2} \\left(T - t\\right)^{\\frac{3}{2}}}}{4 S σ}$"
      ],
      "text/plain": [
       "-(2*E*r**2*(T - t)*exp(-r*(T - t)*(erf(sqrt(2)*(2*r*(T - t) - σ**2*(T - t) + 2*log(S/E))/(4*σ*sqrt(T - t))) + 1)/2)*exp(-(2*r*(T - t) - σ**2*(T - t) + 2*log(S/E))**2/(4*σ**2*(T - t)))/(pi*S*σ) + 2*sqrt(2)*E*r*sqrt(T - t)*exp(-r*(T - t)*(erf(sqrt(2)*(2*r*(T - t) - σ**2*(T - t) + 2*log(S/E))/(4*σ*sqrt(T - t))) + 1)/2)*exp(-(2*r*(T - t) - σ**2*(T - t) + 2*log(S/E))**2/(8*σ**2*(T - t)))/(sqrt(pi)*S) + sqrt(2)*E*r*(2*r*(T - t) - σ**2*(T - t) + 2*log(S/E))*exp(-r*(T - t)*(erf(sqrt(2)*(2*r*(T - t) - σ**2*(T - t) + 2*log(S/E))/(4*σ*sqrt(T - t))) + 1)/2)*exp(-(2*r*(T - t) - σ**2*(T - t) + 2*log(S/E))**2/(8*σ**2*(T - t)))/(sqrt(pi)*S*σ**2*sqrt(T - t)) - 2*sqrt(2)*exp(-(2*r*(T - t) + σ**2*(T - t) + 2*log(S/E))**2/(8*σ**2*(T - t)))/(sqrt(pi)*sqrt(T - t)) + sqrt(2)*(2*r*(T - t) + σ**2*(T - t) + 2*log(S/E))*exp(-(2*r*(T - t) + σ**2*(T - t) + 2*log(S/E))**2/(8*σ**2*(T - t)))/(sqrt(pi)*σ**2*(T - t)**(3/2)))/(4*S*σ)"
      ]
     },
     "execution_count": 8,
     "metadata": {},
     "output_type": "execute_result"
    }
   ],
   "source": [
    "γ | simplify"
   ]
  },
  {
   "cell_type": "code",
   "execution_count": null,
   "metadata": {},
   "outputs": [],
   "source": []
  }
 ],
 "metadata": {
  "kernelspec": {
   "display_name": "Python 3",
   "language": "python",
   "name": "python3"
  },
  "language_info": {
   "codemirror_mode": {
    "name": "ipython",
    "version": 3
   },
   "file_extension": ".py",
   "mimetype": "text/x-python",
   "name": "python",
   "nbconvert_exporter": "python",
   "pygments_lexer": "ipython3",
   "version": "3.7.4"
  }
 },
 "nbformat": 4,
 "nbformat_minor": 2
}
